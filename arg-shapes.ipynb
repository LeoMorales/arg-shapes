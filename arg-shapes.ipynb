{
 "cells": [
  {
   "cell_type": "code",
   "execution_count": 1,
   "id": "702ab9ff",
   "metadata": {},
   "outputs": [],
   "source": [
    "import geopandas as gpd"
   ]
  },
  {
   "cell_type": "markdown",
   "id": "8e487d34",
   "metadata": {},
   "source": [
    "# Departamentos"
   ]
  },
  {
   "cell_type": "code",
   "execution_count": 2,
   "id": "413f5044",
   "metadata": {},
   "outputs": [],
   "source": [
    "arg_departamentos = gpd.read_file(\"shapes/argentina-departamentos.geojson\")"
   ]
  },
  {
   "cell_type": "code",
   "execution_count": 3,
   "id": "8280e1a8",
   "metadata": {},
   "outputs": [
    {
     "data": {
      "text/plain": [
       "<AxesSubplot:>"
      ]
     },
     "execution_count": 3,
     "metadata": {},
     "output_type": "execute_result"
    },
    {
     "data": {
      "image/png": "[encoded data removed]",
      "text/plain": [
       "<Figure size 432x288 with 1 Axes>"
      ]
     },
     "metadata": {
      "needs_background": "light"
     },
     "output_type": "display_data"
    }
   ],
   "source": [
    "arg_departamentos.plot()"
   ]
  },
  {
   "cell_type": "code",
   "execution_count": 4,
   "id": "9a37fa65",
   "metadata": {},
   "outputs": [
    {
     "data": {
      "text/html": [
       "<div>\n",
       "<style scoped>\n",
       "    .dataframe tbody tr th:only-of-type {\n",
       "        vertical-align: middle;\n",
       "    }\n",
       "\n",
       "    .dataframe tbody tr th {\n",
       "        vertical-align: top;\n",
       "    }\n",
       "\n",
       "    .dataframe thead th {\n",
       "        text-align: right;\n",
       "    }\n",
       "</style>\n",
       "<table border=\"1\" class=\"dataframe\">\n",
       "  <thead>\n",
       "    <tr style=\"text-align: right;\">\n",
       "      <th></th>\n",
       "      <th>departamento_id</th>\n",
       "      <th>departamento_nombre</th>\n",
       "      <th>provincia_id</th>\n",
       "      <th>geometry</th>\n",
       "    </tr>\n",
       "  </thead>\n",
       "  <tbody>\n",
       "    <tr>\n",
       "      <th>0</th>\n",
       "      <td>06280</td>\n",
       "      <td>General Alvarado</td>\n",
       "      <td>06</td>\n",
       "      <td>POLYGON ((-57.95915 -38.02258, -57.82946 -38.0...</td>\n",
       "    </tr>\n",
       "    <tr>\n",
       "      <th>1</th>\n",
       "      <td>06357</td>\n",
       "      <td>General Pueyrredón</td>\n",
       "      <td>06</td>\n",
       "      <td>POLYGON ((-57.67326 -37.74815, -57.51973 -37.8...</td>\n",
       "    </tr>\n",
       "    <tr>\n",
       "      <th>2</th>\n",
       "      <td>06518</td>\n",
       "      <td>Mar Chiquita</td>\n",
       "      <td>06</td>\n",
       "      <td>POLYGON ((-57.76890 -37.13602, -57.18764 -37.5...</td>\n",
       "    </tr>\n",
       "    <tr>\n",
       "      <th>3</th>\n",
       "      <td>06868</td>\n",
       "      <td>Villa Gesell</td>\n",
       "      <td>06</td>\n",
       "      <td>POLYGON ((-56.90913 -37.18903, -57.12550 -37.4...</td>\n",
       "    </tr>\n",
       "    <tr>\n",
       "      <th>4</th>\n",
       "      <td>06644</td>\n",
       "      <td>Pinamar</td>\n",
       "      <td>06</td>\n",
       "      <td>POLYGON ((-56.80960 -37.05709, -56.90913 -37.1...</td>\n",
       "    </tr>\n",
       "  </tbody>\n",
       "</table>\n",
       "</div>"
      ],
      "text/plain": [
       "  departamento_id departamento_nombre provincia_id  \\\n",
       "0           06280    General Alvarado           06   \n",
       "1           06357  General Pueyrredón           06   \n",
       "2           06518        Mar Chiquita           06   \n",
       "3           06868        Villa Gesell           06   \n",
       "4           06644             Pinamar           06   \n",
       "\n",
       "                                            geometry  \n",
       "0  POLYGON ((-57.95915 -38.02258, -57.82946 -38.0...  \n",
       "1  POLYGON ((-57.67326 -37.74815, -57.51973 -37.8...  \n",
       "2  POLYGON ((-57.76890 -37.13602, -57.18764 -37.5...  \n",
       "3  POLYGON ((-56.90913 -37.18903, -57.12550 -37.4...  \n",
       "4  POLYGON ((-56.80960 -37.05709, -56.90913 -37.1...  "
      ]
     },
     "execution_count": 4,
     "metadata": {},
     "output_type": "execute_result"
    }
   ],
   "source": [
    "arg_departamentos.head()"
   ]
  },
  {
   "cell_type": "code",
   "execution_count": null,
   "id": "709e1a6d",
   "metadata": {},
   "outputs": [],
   "source": []
  }
 ],
 "metadata": {
  "kernelspec": {
   "display_name": "Python 3",
   "language": "python",
   "name": "python3"
  },
  "language_info": {
   "codemirror_mode": {
    "name": "ipython",
    "version": 3
   },
   "file_extension": ".py",
   "mimetype": "text/x-python",
   "name": "python",
   "nbconvert_exporter": "python",
   "pygments_lexer": "ipython3",
   "version": "3.9.2"
  },
  "toc": {
   "base_numbering": 1,
   "nav_menu": {},
   "number_sections": true,
   "sideBar": true,
   "skip_h1_title": false,
   "title_cell": "Table of Contents",
   "title_sidebar": "Contents",
   "toc_cell": false,
   "toc_position": {},
   "toc_section_display": true,
   "toc_window_display": false
  }
 },
 "nbformat": 4,
 "nbformat_minor": 5
}
